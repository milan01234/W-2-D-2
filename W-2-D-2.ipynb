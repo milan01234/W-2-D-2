{
 "cells": [
  {
   "cell_type": "code",
   "execution_count": 12,
   "id": "ad9910f4",
   "metadata": {},
   "outputs": [
    {
     "name": "stdout",
     "output_type": "stream",
     "text": [
      "[[  0. 100.  78. 342.]\n",
      " [  1.  11.  62. 191.]\n",
      " [  2.   8.  85. 252.]\n",
      " [  3.  71.  24. 307.]\n",
      " [  4. 104.  17. 229.]\n",
      " [  5.  18. 104. 246.]\n",
      " [  6.   8.  76. 226.]\n",
      " [  7.  86.  74. 288.]\n",
      " [  8.  12.  60. 216.]\n",
      " [  9.  25.  90. 304.]\n",
      " [ 10.  56.   6. 272.]\n",
      " [ 11.  88.  69. 302.]\n",
      " [ 12. 147.  65. 312.]\n",
      " [ 13. 121. 146. 370.]\n",
      " [ 15.  99. 110. 362.]]\n"
     ]
    }
   ],
   "source": [
    "import numpy as np\n",
    "file=np.loadtxt(\"cric.tsv\",skiprows=1)\n",
    "print(file)\n"
   ]
  },
  {
   "cell_type": "code",
   "execution_count": 15,
   "id": "fa9f421d",
   "metadata": {},
   "outputs": [
    {
     "name": "stdout",
     "output_type": "stream",
     "text": [
      "[100.  11.   8.  71. 104.  18.   8.  86.  12.  25.  56.  88. 147. 121.\n",
      "  99.]\n"
     ]
    }
   ],
   "source": [
    "Sachin=file[:,1]\n",
    "print(Sachin)"
   ]
  },
  {
   "cell_type": "code",
   "execution_count": 18,
   "id": "748162a1",
   "metadata": {},
   "outputs": [
    {
     "name": "stdout",
     "output_type": "stream",
     "text": [
      "[ 78.  62.  85.  24.  17. 104.  76.  74.  60.  90.   6.  69.  65. 146.\n",
      " 110.]\n"
     ]
    }
   ],
   "source": [
    "Dravid=file[:,2]\n",
    "print(Dravid)"
   ]
  },
  {
   "cell_type": "code",
   "execution_count": 19,
   "id": "10f7a1f8",
   "metadata": {},
   "outputs": [
    {
     "name": "stdout",
     "output_type": "stream",
     "text": [
      "[342. 191. 252. 307. 229. 246. 226. 288. 216. 304. 272. 302. 312. 370.\n",
      " 362.]\n"
     ]
    }
   ],
   "source": [
    "Indian=file[:,3]\n",
    "print(Indian)"
   ]
  },
  {
   "cell_type": "code",
   "execution_count": 29,
   "id": "265d2632",
   "metadata": {},
   "outputs": [
    {
     "name": "stdout",
     "output_type": "stream",
     "text": [
      "63.6\n",
      "71.0\n"
     ]
    }
   ],
   "source": [
    "Sachin_mean=np.mean(Sachin)\n",
    "Sachin_median=np.median(Sachin)\n",
    "print(Sachin_mean)\n",
    "print(Sachin_median)"
   ]
  },
  {
   "cell_type": "code",
   "execution_count": 30,
   "id": "c641bb35",
   "metadata": {},
   "outputs": [
    {
     "name": "stdout",
     "output_type": "stream",
     "text": [
      "71.06666666666666\n",
      "74.0\n"
     ]
    }
   ],
   "source": [
    "Dravid_mean=np.mean(Dravid)\n",
    "Dravid_median=np.median(Dravid)\n",
    "print(Dravid_mean)\n",
    "print(Dravid_median)"
   ]
  },
  {
   "cell_type": "code",
   "execution_count": 37,
   "id": "09fea412",
   "metadata": {},
   "outputs": [
    {
     "name": "stdout",
     "output_type": "stream",
     "text": [
      "India mean 281.26666666666665\n",
      "India median 288.0\n"
     ]
    }
   ],
   "source": [
    "India_mean=np.mean(Indian)\n",
    "India_median=np.median(Indian)\n",
    "print(\"India mean\",India_mean)\n",
    "print(\"India median\",India_median)"
   ]
  },
  {
   "cell_type": "code",
   "execution_count": null,
   "id": "b1d43f21",
   "metadata": {},
   "outputs": [],
   "source": []
  }
 ],
 "metadata": {
  "kernelspec": {
   "display_name": "Python 3 (ipykernel)",
   "language": "python",
   "name": "python3"
  },
  "language_info": {
   "codemirror_mode": {
    "name": "ipython",
    "version": 3
   },
   "file_extension": ".py",
   "mimetype": "text/x-python",
   "name": "python",
   "nbconvert_exporter": "python",
   "pygments_lexer": "ipython3",
   "version": "3.9.13"
  }
 },
 "nbformat": 4,
 "nbformat_minor": 5
}
